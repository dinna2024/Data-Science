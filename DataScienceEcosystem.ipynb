{
 "cells": [
  {
   "cell_type": "markdown",
   "id": "1b7bf921",
   "metadata": {},
   "source": [
    "# Data Science Tools and Ecosystem"
   ]
  },
  {
   "cell_type": "markdown",
   "id": "cdeeeaee",
   "metadata": {},
   "source": [
    "In this notebook, Data Science Tools and Ecosystem are summarized."
   ]
  },
  {
   "cell_type": "markdown",
   "id": "9c74bf3c",
   "metadata": {},
   "source": [
    "Objectives:\n",
    "    1.Creating Jupyter NoteBook\n",
    "    2. Data Science Libraries\n",
    "    3. Performing Arithmetic Expression"
   ]
  },
  {
   "cell_type": "markdown",
   "id": "938b6a29",
   "metadata": {},
   "source": [
    "Some of the popular languages that Data Scientists use are:\n",
    "Python\n",
    "Jupyter Notebook\n",
    "Power BI"
   ]
  },
  {
   "cell_type": "markdown",
   "id": "35f16d76",
   "metadata": {},
   "source": [
    "Some of the commonly used libraries used by Data Scientists include:\n",
    "    NumPy\n",
    "    Pandas\n",
    "    Matplotlib\n",
    "    SciPy"
   ]
  },
  {
   "cell_type": "code",
   "execution_count": 1,
   "id": "ea294e57",
   "metadata": {},
   "outputs": [
    {
     "data": {
      "text/plain": [
       "17"
      ]
     },
     "execution_count": 1,
     "metadata": {},
     "output_type": "execute_result"
    }
   ],
   "source": [
    "#This a simple arithmetic expression to mutiply then add integers\n",
    "(3*4)+5"
   ]
  },
  {
   "cell_type": "code",
   "execution_count": 2,
   "id": "5e0d3bf1",
   "metadata": {},
   "outputs": [
    {
     "data": {
      "text/plain": [
       "3.3333333333333335"
      ]
     },
     "execution_count": 2,
     "metadata": {},
     "output_type": "execute_result"
    }
   ],
   "source": [
    "#This will convert 200 minutes to hours by diving by 60\n",
    "200/60"
   ]
  },
  {
   "cell_type": "markdown",
   "id": "9d56bd5b",
   "metadata": {},
   "source": [
    "## Author: "
   ]
  },
  {
   "cell_type": "markdown",
   "id": "42eaef48",
   "metadata": {},
   "source": [
    "Dina Sarris"
   ]
  },
  {
   "cell_type": "code",
   "execution_count": null,
   "id": "8f26d481",
   "metadata": {},
   "outputs": [],
   "source": []
  }
 ],
 "metadata": {
  "kernelspec": {
   "display_name": "Python 3 (ipykernel)",
   "language": "python",
   "name": "python3"
  },
  "language_info": {
   "codemirror_mode": {
    "name": "ipython",
    "version": 3
   },
   "file_extension": ".py",
   "mimetype": "text/x-python",
   "name": "python",
   "nbconvert_exporter": "python",
   "pygments_lexer": "ipython3",
   "version": "3.9.13"
  }
 },
 "nbformat": 4,
 "nbformat_minor": 5
}
